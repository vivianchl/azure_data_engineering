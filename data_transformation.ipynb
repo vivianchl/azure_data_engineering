{
 "cells": [
  {
   "cell_type": "code",
   "execution_count": 0,
   "metadata": {
    "application/vnd.databricks.v1+cell": {
     "cellMetadata": {
      "byteLimit": 2048000,
      "rowLimit": 10000
     },
     "inputWidgets": {},
     "nuid": "40bca27b-9ff8-4c48-aeab-0e52df6468c0",
     "showTitle": false,
     "tableResultSettingsMap": {},
     "title": ""
    }
   },
   "outputs": [],
   "source": [
    "from pyspark.sql.functions import col, desc\n",
    "from pyspark.sql.types import IntegerType, DoubleType, BooleanType, DateType"
   ]
  },
  {
   "cell_type": "markdown",
   "metadata": {
    "application/vnd.databricks.v1+cell": {
     "cellMetadata": {},
     "inputWidgets": {},
     "nuid": "e1ed07a2-beb2-498a-9b88-9e37dbac69a9",
     "showTitle": false,
     "tableResultSettingsMap": {},
     "title": ""
    }
   },
   "source": [
    "Connect databricks to datalake"
   ]
  },
  {
   "cell_type": "code",
   "execution_count": 1,
   "metadata": {
    "application/vnd.databricks.v1+cell": {
     "cellMetadata": {
      "byteLimit": 2048000,
      "rowLimit": 10000
     },
     "inputWidgets": {},
     "nuid": "6fe18af5-f6df-478a-b831-b57b016772bd",
     "showTitle": false,
     "tableResultSettingsMap": {},
     "title": ""
    },
    "jupyter": {
     "outputs_hidden": true
    }
   },
   "outputs": [],
   "source": [
    "# insert configs"
   ]
  },
  {
   "cell_type": "code",
   "execution_count": 0,
   "metadata": {
    "application/vnd.databricks.v1+cell": {
     "cellMetadata": {
      "byteLimit": 2048000,
      "rowLimit": 10000
     },
     "inputWidgets": {},
     "nuid": "ace4969c-8aed-4c6c-b2f2-1816d0c04961",
     "showTitle": false,
     "tableResultSettingsMap": {},
     "title": ""
    }
   },
   "outputs": [
    {
     "data": {
      "text/html": [
       "<style scoped>\n",
       "  .table-result-container {\n",
       "    max-height: 300px;\n",
       "    overflow: auto;\n",
       "  }\n",
       "  table, th, td {\n",
       "    border: 1px solid black;\n",
       "    border-collapse: collapse;\n",
       "  }\n",
       "  th, td {\n",
       "    padding: 5px;\n",
       "  }\n",
       "  th {\n",
       "    text-align: left;\n",
       "  }\n",
       "</style><div class='table-result-container'><table class='table-result'><thead style='background-color: white'><tr><th>path</th><th>name</th><th>size</th><th>modificationTime</th></tr></thead><tbody><tr><td>dbfs:/mnt/olympicdata/raw-data/</td><td>raw-data/</td><td>0</td><td>1731664582000</td></tr><tr><td>dbfs:/mnt/olympicdata/transformed-data/</td><td>transformed-data/</td><td>0</td><td>1731664591000</td></tr></tbody></table></div>"
      ]
     },
     "metadata": {
      "application/vnd.databricks.v1+output": {
       "addedWidgets": {},
       "aggData": [],
       "aggError": "",
       "aggOverflow": false,
       "aggSchema": [],
       "aggSeriesLimitReached": false,
       "aggType": "",
       "arguments": {},
       "columnCustomDisplayInfos": {},
       "data": [
        [
         "dbfs:/mnt/olympicdata/raw-data/",
         "raw-data/",
         0,
         1731664582000
        ],
        [
         "dbfs:/mnt/olympicdata/transformed-data/",
         "transformed-data/",
         0,
         1731664591000
        ]
       ],
       "datasetInfos": [],
       "dbfsResultPath": null,
       "isJsonSchema": true,
       "metadata": {
        "isDbfsCommandResult": false
       },
       "overflow": false,
       "plotOptions": {
        "customPlotOptions": {},
        "displayType": "table",
        "pivotAggregation": null,
        "pivotColumns": null,
        "xColumns": null,
        "yColumns": null
       },
       "removedWidgets": [],
       "schema": [
        {
         "metadata": "{}",
         "name": "path",
         "type": "\"string\""
        },
        {
         "metadata": "{}",
         "name": "name",
         "type": "\"string\""
        },
        {
         "metadata": "{}",
         "name": "size",
         "type": "\"long\""
        },
        {
         "metadata": "{}",
         "name": "modificationTime",
         "type": "\"long\""
        }
       ],
       "type": "table"
      }
     },
     "output_type": "display_data"
    }
   ],
   "source": [
    "%fs\n",
    "ls \"mnt/olympicdata\""
   ]
  },
  {
   "cell_type": "code",
   "execution_count": 0,
   "metadata": {
    "application/vnd.databricks.v1+cell": {
     "cellMetadata": {
      "byteLimit": 2048000,
      "rowLimit": 10000
     },
     "inputWidgets": {},
     "nuid": "e0c25ace-ef8c-46f4-bb3f-c1922df685ce",
     "showTitle": false,
     "tableResultSettingsMap": {},
     "title": ""
    }
   },
   "outputs": [
    {
     "data": {
      "text/html": [
       "\n",
       "            <div>\n",
       "                <p><b>SparkSession - hive</b></p>\n",
       "                \n",
       "        <div>\n",
       "            <p><b>SparkContext</b></p>\n",
       "\n",
       "            <p><a href=\"/?o=2786479935925028#setting/sparkui/1115-104853-ir5bny9x/driver-1332340351142385775\">Spark UI</a></p>\n",
       "\n",
       "            <dl>\n",
       "              <dt>Version</dt>\n",
       "                <dd><code>v3.5.0</code></dd>\n",
       "              <dt>Master</dt>\n",
       "                <dd><code>local[*, 4]</code></dd>\n",
       "              <dt>AppName</dt>\n",
       "                <dd><code>Databricks Shell</code></dd>\n",
       "            </dl>\n",
       "        </div>\n",
       "        \n",
       "            </div>\n",
       "        "
      ],
      "text/plain": [
       "<pyspark.sql.session.SparkSession at 0x7fe61f226d50>"
      ]
     },
     "execution_count": 18,
     "metadata": {},
     "output_type": "execute_result"
    }
   ],
   "source": [
    "spark"
   ]
  },
  {
   "cell_type": "markdown",
   "metadata": {
    "application/vnd.databricks.v1+cell": {
     "cellMetadata": {},
     "inputWidgets": {},
     "nuid": "e307caf2-645f-410e-a96b-258bcafbcade",
     "showTitle": false,
     "tableResultSettingsMap": {},
     "title": ""
    }
   },
   "source": [
    "load data in spark"
   ]
  },
  {
   "cell_type": "code",
   "execution_count": 0,
   "metadata": {
    "application/vnd.databricks.v1+cell": {
     "cellMetadata": {
      "byteLimit": 2048000,
      "rowLimit": 10000
     },
     "inputWidgets": {},
     "nuid": "881638e8-bded-4cd0-9ca4-0279dcb63e90",
     "showTitle": false,
     "tableResultSettingsMap": {},
     "title": ""
    }
   },
   "outputs": [],
   "source": [
    "athletes = spark.read.format(\"csv\").option(\"header\", True).option(\"inferSchema\", True).load(\"/mnt/olympicdata/raw-data/athletes.csv\")\n",
    "coaches = spark.read.format(\"csv\").option(\"header\", True).option(\"inferSchema\", True).load(\"/mnt/olympicdata/raw-data/coaches.csv\")\n",
    "entriesgender = spark.read.format(\"csv\").option(\"header\", True).option(\"inferSchema\", True).load(\"/mnt/olympicdata/raw-data/entries-gender.csv\")\n",
    "medals = spark.read.format(\"csv\").option(\"header\", True).option(\"inferSchema\", True).load(\"/mnt/olympicdata/raw-data/medals.csv\")\n",
    "teams = spark.read.format(\"csv\").option(\"header\", True).option(\"inferSchema\", True).load(\"/mnt/olympicdata/raw-data/teams.csv\")"
   ]
  },
  {
   "cell_type": "markdown",
   "metadata": {
    "application/vnd.databricks.v1+cell": {
     "cellMetadata": {},
     "inputWidgets": {},
     "nuid": "f8566cb3-9947-47ac-95ad-f2790c05f7db",
     "showTitle": false,
     "tableResultSettingsMap": {},
     "title": ""
    }
   },
   "source": [
    "Explore Data"
   ]
  },
  {
   "cell_type": "code",
   "execution_count": 0,
   "metadata": {
    "application/vnd.databricks.v1+cell": {
     "cellMetadata": {
      "byteLimit": 2048000,
      "rowLimit": 10000
     },
     "inputWidgets": {},
     "nuid": "9cad54c9-29e4-44fa-ae95-b8733be77180",
     "showTitle": false,
     "tableResultSettingsMap": {},
     "title": ""
    }
   },
   "outputs": [
    {
     "name": "stdout",
     "output_type": "stream",
     "text": [
      "+-----------------+------+-------------------+\n",
      "|             Name|   NOC|         Discipline|\n",
      "+-----------------+------+-------------------+\n",
      "|  AALERUD Katrine|Norway|       Cycling Road|\n",
      "|      ABAD Nestor| Spain|Artistic Gymnastics|\n",
      "|ABAGNALE Giovanni| Italy|             Rowing|\n",
      "|   ABALDE Alberto| Spain|         Basketball|\n",
      "|    ABALDE Tamara| Spain|         Basketball|\n",
      "+-----------------+------+-------------------+\n",
      "only showing top 5 rows\n",
      "\n"
     ]
    }
   ],
   "source": [
    "athletes.show(5)"
   ]
  },
  {
   "cell_type": "code",
   "execution_count": 0,
   "metadata": {
    "application/vnd.databricks.v1+cell": {
     "cellMetadata": {
      "byteLimit": 2048000,
      "rowLimit": 10000
     },
     "inputWidgets": {},
     "nuid": "e981cad9-f59f-4e0f-92ab-8b99e011d66e",
     "showTitle": false,
     "tableResultSettingsMap": {},
     "title": ""
    }
   },
   "outputs": [
    {
     "name": "stdout",
     "output_type": "stream",
     "text": [
      "+---------------+-------------+----------+-----+\n",
      "|           Name|          NOC|Discipline|Event|\n",
      "+---------------+-------------+----------+-----+\n",
      "|ABDELMAGID Wael|        Egypt|  Football| NULL|\n",
      "|      ABE Junya|        Japan|Volleyball| NULL|\n",
      "|  ABE Katsuhiko|        Japan|Basketball| NULL|\n",
      "|   ADAMA Cherif|Côte d'Ivoire|  Football| NULL|\n",
      "|     AGEBA Yuya|        Japan|Volleyball| NULL|\n",
      "+---------------+-------------+----------+-----+\n",
      "only showing top 5 rows\n",
      "\n"
     ]
    }
   ],
   "source": [
    "coaches.show(5)"
   ]
  },
  {
   "cell_type": "code",
   "execution_count": 0,
   "metadata": {
    "application/vnd.databricks.v1+cell": {
     "cellMetadata": {
      "byteLimit": 2048000,
      "rowLimit": 10000
     },
     "inputWidgets": {},
     "nuid": "b75f3b64-883c-42c5-a6cf-d3ce3a8240ba",
     "showTitle": false,
     "tableResultSettingsMap": {},
     "title": ""
    }
   },
   "outputs": [
    {
     "name": "stdout",
     "output_type": "stream",
     "text": [
      "+-------------------+------+----+-----+\n",
      "|         Discipline|Female|Male|Total|\n",
      "+-------------------+------+----+-----+\n",
      "|     3x3 Basketball|    32|  32|   64|\n",
      "|            Archery|    64|  64|  128|\n",
      "|Artistic Gymnastics|    98|  98|  196|\n",
      "|  Artistic Swimming|   105|   0|  105|\n",
      "|          Athletics|   969|1072| 2041|\n",
      "+-------------------+------+----+-----+\n",
      "only showing top 5 rows\n",
      "\n"
     ]
    }
   ],
   "source": [
    "entriesgender.show(5)"
   ]
  },
  {
   "cell_type": "code",
   "execution_count": 0,
   "metadata": {
    "application/vnd.databricks.v1+cell": {
     "cellMetadata": {
      "byteLimit": 2048000,
      "rowLimit": 10000
     },
     "inputWidgets": {},
     "nuid": "37b2bb2f-cbc1-4a06-867d-dd95faa1bc19",
     "showTitle": false,
     "tableResultSettingsMap": {},
     "title": ""
    }
   },
   "outputs": [
    {
     "name": "stdout",
     "output_type": "stream",
     "text": [
      "+----+--------------------+----+------+------+-----+-------------+\n",
      "|Rank|            Team/NOC|Gold|Silver|Bronze|Total|Rank by Total|\n",
      "+----+--------------------+----+------+------+-----+-------------+\n",
      "|   1|United States of ...|  39|    41|    33|  113|            1|\n",
      "|   2|People's Republic...|  38|    32|    18|   88|            2|\n",
      "|   3|               Japan|  27|    14|    17|   58|            5|\n",
      "|   4|       Great Britain|  22|    21|    22|   65|            4|\n",
      "|   5|                 ROC|  20|    28|    23|   71|            3|\n",
      "+----+--------------------+----+------+------+-----+-------------+\n",
      "only showing top 5 rows\n",
      "\n"
     ]
    }
   ],
   "source": [
    "medals.show(5)"
   ]
  },
  {
   "cell_type": "code",
   "execution_count": 0,
   "metadata": {
    "application/vnd.databricks.v1+cell": {
     "cellMetadata": {
      "byteLimit": 2048000,
      "rowLimit": 10000
     },
     "inputWidgets": {},
     "nuid": "124ab457-ace4-4ce0-9aa6-d21fdc209af8",
     "showTitle": false,
     "tableResultSettingsMap": {},
     "title": ""
    }
   },
   "outputs": [
    {
     "name": "stdout",
     "output_type": "stream",
     "text": [
      "+-------+--------------+--------------------+-----+\n",
      "|   Name|    Discipline|                 NOC|Event|\n",
      "+-------+--------------+--------------------+-----+\n",
      "|Belgium|3x3 Basketball|             Belgium|  Men|\n",
      "|  China|3x3 Basketball|People's Republic...|  Men|\n",
      "|  China|3x3 Basketball|People's Republic...|Women|\n",
      "| France|3x3 Basketball|              France|Women|\n",
      "|  Italy|3x3 Basketball|               Italy|Women|\n",
      "+-------+--------------+--------------------+-----+\n",
      "only showing top 5 rows\n",
      "\n"
     ]
    }
   ],
   "source": [
    "teams.show(5)"
   ]
  },
  {
   "cell_type": "code",
   "execution_count": 0,
   "metadata": {
    "application/vnd.databricks.v1+cell": {
     "cellMetadata": {
      "byteLimit": 2048000,
      "rowLimit": 10000
     },
     "inputWidgets": {},
     "nuid": "fa69df00-f625-4dd0-8ebd-1437cfb22804",
     "showTitle": false,
     "tableResultSettingsMap": {},
     "title": ""
    }
   },
   "outputs": [
    {
     "name": "stdout",
     "output_type": "stream",
     "text": [
      "root\n",
      " |-- Name: string (nullable = true)\n",
      " |-- NOC: string (nullable = true)\n",
      " |-- Discipline: string (nullable = true)\n",
      "\n",
      "root\n",
      " |-- Discipline: string (nullable = true)\n",
      " |-- Female: integer (nullable = true)\n",
      " |-- Male: integer (nullable = true)\n",
      " |-- Total: integer (nullable = true)\n",
      "\n",
      "root\n",
      " |-- Rank: integer (nullable = true)\n",
      " |-- Team/NOC: string (nullable = true)\n",
      " |-- Gold: integer (nullable = true)\n",
      " |-- Silver: integer (nullable = true)\n",
      " |-- Bronze: integer (nullable = true)\n",
      " |-- Total: integer (nullable = true)\n",
      " |-- Rank by Total: integer (nullable = true)\n",
      "\n",
      "root\n",
      " |-- Name: string (nullable = true)\n",
      " |-- Discipline: string (nullable = true)\n",
      " |-- NOC: string (nullable = true)\n",
      " |-- Event: string (nullable = true)\n",
      "\n",
      "root\n",
      " |-- Name: string (nullable = true)\n",
      " |-- NOC: string (nullable = true)\n",
      " |-- Discipline: string (nullable = true)\n",
      " |-- Event: string (nullable = true)\n",
      "\n"
     ]
    }
   ],
   "source": [
    "athletes.printSchema()\n",
    "entriesgender.printSchema()\n",
    "medals.printSchema()\n",
    "teams.printSchema()\n",
    "coaches.printSchema()"
   ]
  },
  {
   "cell_type": "markdown",
   "metadata": {
    "application/vnd.databricks.v1+cell": {
     "cellMetadata": {},
     "inputWidgets": {},
     "nuid": "f97be9dc-8620-4ecc-ac06-02d8740eb703",
     "showTitle": false,
     "tableResultSettingsMap": {},
     "title": ""
    }
   },
   "source": [
    "Basic Transformation"
   ]
  },
  {
   "cell_type": "code",
   "execution_count": 0,
   "metadata": {
    "application/vnd.databricks.v1+cell": {
     "cellMetadata": {
      "byteLimit": 2048000,
      "rowLimit": 10000
     },
     "inputWidgets": {},
     "nuid": "61bbe08d-615a-41da-baef-b2c867ca2610",
     "showTitle": false,
     "tableResultSettingsMap": {},
     "title": ""
    }
   },
   "outputs": [
    {
     "name": "stdout",
     "output_type": "stream",
     "text": [
      "+--------------------+----+\n",
      "|            Team/NOC|Gold|\n",
      "+--------------------+----+\n",
      "|United States of ...|  39|\n",
      "|People's Republic...|  38|\n",
      "|               Japan|  27|\n",
      "|       Great Britain|  22|\n",
      "|                 ROC|  20|\n",
      "|           Australia|  17|\n",
      "|         Netherlands|  10|\n",
      "|              France|  10|\n",
      "|             Germany|  10|\n",
      "|               Italy|  10|\n",
      "|                Cuba|   7|\n",
      "|         New Zealand|   7|\n",
      "|              Brazil|   7|\n",
      "|              Canada|   7|\n",
      "|             Hungary|   6|\n",
      "|   Republic of Korea|   6|\n",
      "|               Kenya|   4|\n",
      "|              Poland|   4|\n",
      "|      Czech Republic|   4|\n",
      "|              Norway|   4|\n",
      "+--------------------+----+\n",
      "only showing top 20 rows\n",
      "\n"
     ]
    }
   ],
   "source": [
    "# top countries with the highest number of gold medals\n",
    "top_gold_medals_countries = medals.orderBy(\"Gold\", ascending=False).select(\"Team/NOC\",\"Gold\").show()"
   ]
  },
  {
   "cell_type": "code",
   "execution_count": 0,
   "metadata": {
    "application/vnd.databricks.v1+cell": {
     "cellMetadata": {
      "byteLimit": 2048000,
      "rowLimit": 10000
     },
     "inputWidgets": {},
     "nuid": "1b8e03c3-896f-495f-886e-6bd0a1cd5805",
     "showTitle": false,
     "tableResultSettingsMap": {},
     "title": ""
    }
   },
   "outputs": [
    {
     "name": "stdout",
     "output_type": "stream",
     "text": [
      "+-------------------+------+----+-----+-----------------+\n",
      "|         Discipline|Female|Male|Total|     Gender_Ratio|\n",
      "+-------------------+------+----+-----+-----------------+\n",
      "|     3x3 Basketball|    32|  32|   64|             50.0|\n",
      "|            Archery|    64|  64|  128|             50.0|\n",
      "|Artistic Gymnastics|    98|  98|  196|             50.0|\n",
      "|  Artistic Swimming|   105|   0|  105|            100.0|\n",
      "|          Athletics|   969|1072| 2041|47.47672709456149|\n",
      "+-------------------+------+----+-----+-----------------+\n",
      "only showing top 5 rows\n",
      "\n"
     ]
    }
   ],
   "source": [
    "# analyse the total number of participants by gender in each discipline\n",
    "gender_participation = entriesgender.withColumn(\"Gender_Ratio\", \n",
    "                        (entriesgender[\"Female\"] / entriesgender[\"Total\"]) * 100)\n",
    "gender_participation.show(5)\n"
   ]
  },
  {
   "cell_type": "code",
   "execution_count": 0,
   "metadata": {
    "application/vnd.databricks.v1+cell": {
     "cellMetadata": {
      "byteLimit": 2048000,
      "rowLimit": 10000
     },
     "inputWidgets": {},
     "nuid": "8170d1d1-6b5e-49d5-b0a6-6dbc041f894b",
     "showTitle": false,
     "tableResultSettingsMap": {},
     "title": ""
    }
   },
   "outputs": [
    {
     "name": "stdout",
     "output_type": "stream",
     "text": [
      "+-------------------+-------------+-----+\n",
      "|         Discipline|          NOC|count|\n",
      "+-------------------+-------------+-----+\n",
      "|Artistic Gymnastics|        Italy|    1|\n",
      "|      Cycling Track|  Switzerland|    2|\n",
      "|Artistic Gymnastics|Great Britain|    2|\n",
      "|         Water Polo|          ROC|    1|\n",
      "|            Archery|      Ukraine|    2|\n",
      "+-------------------+-------------+-----+\n",
      "only showing top 5 rows\n",
      "\n"
     ]
    }
   ],
   "source": [
    "# analyze teams and their disciplines\n",
    "team_participation = teams.groupBy(\"Discipline\", \"NOC\").count()\n",
    "team_participation.show(5)\n"
   ]
  },
  {
   "cell_type": "code",
   "execution_count": 0,
   "metadata": {
    "application/vnd.databricks.v1+cell": {
     "cellMetadata": {
      "byteLimit": 2048000,
      "rowLimit": 10000
     },
     "inputWidgets": {},
     "nuid": "887c30c8-f132-4e9d-9f6d-95d91351c781",
     "showTitle": false,
     "tableResultSettingsMap": {},
     "title": ""
    }
   },
   "outputs": [
    {
     "name": "stdout",
     "output_type": "stream",
     "text": [
      "+--------------------+-----+\n",
      "|                Name|count|\n",
      "+--------------------+-----+\n",
      "|            WANG Jie|    2|\n",
      "|   FARINELLI Roberta|    2|\n",
      "|       FUJIKI Mayuko|    2|\n",
      "|       SZAUDER Gabor|    2|\n",
      "|REQUENA PERICAS J...|    2|\n",
      "|GIALLOMBARDO Patr...|    2|\n",
      "|    MONTICO Loredana|    2|\n",
      "|    GUERRERO Rolando|    2|\n",
      "|       ELAFANDI Nour|    2|\n",
      "|   CHEPAK Anastasiya|    2|\n",
      "+--------------------+-----+\n",
      "\n"
     ]
    }
   ],
   "source": [
    "# analyze the most active coaches based on the number of events:\n",
    "top_coaches = coaches.groupBy(\"Name\").count().orderBy(desc(\"count\")).limit(10)\n",
    "top_coaches.show()\n"
   ]
  },
  {
   "cell_type": "code",
   "execution_count": 0,
   "metadata": {
    "application/vnd.databricks.v1+cell": {
     "cellMetadata": {
      "byteLimit": 2048000,
      "rowLimit": 10000
     },
     "inputWidgets": {},
     "nuid": "d6605228-0342-4bd3-bb01-e67b8bd89933",
     "showTitle": false,
     "tableResultSettingsMap": {},
     "title": ""
    }
   },
   "outputs": [],
   "source": [
    "athletes.repartition(1).write.mode(\"overwrite\").option(\"header\", \"true\").csv(\"/mnt/olympicdata/transform-data/athletes\")\n",
    "coaches.repartition(1).write.mode(\"overwrite\").option(\"header\", \"true\").csv(\"/mnt/olympicdata/transform-data/coaches\")\n",
    "entriesgender.repartition(1).write.mode(\"overwrite\").option(\"header\", \"true\").csv(\"/mnt/olympicdata/transform-data/entriesgender\")\n",
    "medals.repartition(1).write.mode(\"overwrite\").option(\"header\", \"true\").csv(\"/mnt/olympicdata/transform-data/medals\")\n",
    "teams.repartition(1).write.mode(\"overwrite\").option(\"header\", \"true\").csv(\"/mnt/olympicdata/transform-data/teams\")"
   ]
  }
 ],
 "metadata": {
  "application/vnd.databricks.v1+notebook": {
   "dashboards": [],
   "environmentMetadata": {
    "base_environment": "",
    "client": "1"
   },
   "language": "python",
   "notebookMetadata": {
    "mostRecentlyExecutedCommandWithImplicitDF": {
     "commandId": 1117484247200221,
     "dataframes": [
      "_sqldf"
     ]
    },
    "pythonIndentUnit": 2
   },
   "notebookName": "Tokyo Olympic Transformation",
   "widgets": {}
  },
  "kernelspec": {
   "display_name": "dl",
   "language": "python",
   "name": "python3"
  },
  "language_info": {
   "codemirror_mode": {
    "name": "ipython",
    "version": 3
   },
   "file_extension": ".py",
   "mimetype": "text/x-python",
   "name": "python",
   "nbconvert_exporter": "python",
   "pygments_lexer": "ipython3",
   "version": "3.11.2"
  }
 },
 "nbformat": 4,
 "nbformat_minor": 0
}
